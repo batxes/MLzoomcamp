{
 "cells": [
  {
   "cell_type": "markdown",
   "id": "ad93c674-aa11-4624-9f1d-58d723011f7a",
   "metadata": {},
   "source": [
    "# Capstone Project\n",
    "\n",
    "Notebook for Data preparation, cleaning, checking, creating models, tunning them and evaluating the best one for our image classificator\n",
    "\n"
   ]
  },
  {
   "cell_type": "code",
   "execution_count": 35,
   "id": "6e02b8dd",
   "metadata": {},
   "outputs": [],
   "source": [
    "import warnings\n",
    "warnings.filterwarnings('ignore')\n",
    "import os\n",
    "import shutil\n",
    "import random\n",
    "import numpy as np\n",
    "from io import BytesIO\n",
    "from PIL import Image\n",
    "import requests\n",
    "import urllib\n",
    "from IPython.display import display\n",
    "\n",
    "\n",
    "from sklearn.metrics import confusion_matrix\n",
    "from sklearn.model_selection import train_test_split\n",
    "from keras.preprocessing import image\n",
    "from tensorflow.keras.preprocessing.image import load_img, ImageDataGenerator\n",
    "from tensorflow import keras\n",
    "import tensorflow.lite as tflite\n",
    "import PIL\n",
    "import PIL.Image\n",
    "\n",
    "import matplotlib.pyplot as plt\n",
    "import seaborn as sns\n",
    "from random import randrange\n",
    "\n",
    "%matplotlib inline\n",
    "\n"
   ]
  },
  {
   "cell_type": "markdown",
   "id": "dfec3fb4-0142-4f39-9fac-d21a86578902",
   "metadata": {},
   "source": [
    "## Dataset information\n",
    "\n",
    "Dataset can be downloaded from: https://www.tensorflow.org/datasets/catalog/eurosat#eurosatrgb_default_config\n",
    "\n",
    "The dataset consists of 10 different types of lands. The goal of this project is to classify different images into 1 of those 10 different classes. The classes are:\n",
    "\n",
    "1.\"AnnualCrop\"\n",
    "2.\"Forest\"\n",
    "\"HerbaceousVegetation\"\n",
    "\"Highway\"\n",
    "\"Industrial\"\n",
    "\"Pasture\"\n",
    "\"PermanentCrop\"\n",
    "\"Residential\"\n",
    "\"River\"\n",
    "\"SeaLake\""
   ]
  },
  {
   "cell_type": "markdown",
   "id": "db7675d9",
   "metadata": {},
   "source": [
    "# EDA\n",
    "## Data preparation\n",
    "\n",
    "First we load the data"
   ]
  },
  {
   "cell_type": "code",
   "execution_count": 36,
   "id": "418acc3a",
   "metadata": {},
   "outputs": [
    {
     "name": "stdout",
     "output_type": "stream",
     "text": [
      "0\n",
      "Industrial\n",
      "1\n",
      "AnnualCrop\n",
      "2\n",
      "River\n",
      "3\n",
      "River\n",
      "4\n",
      "SeaLake\n",
      "5\n",
      "Forest\n",
      "6\n",
      "AnnualCrop\n",
      "7\n",
      "Industrial\n",
      "8\n",
      "SeaLake\n",
      "9\n",
      "AnnualCrop\n"
     ]
    }
   ],
   "source": [
    "path = \"EuroSAT_RGB/\"\n",
    "example = \"Highway/Highway_15.jpg\"\n",
    "target_size = (64, 64)\n",
    "classes = [\"AnnualCrop\",\"Forest\",\"HerbaceousVegetation\",\"Highway\",\"Industrial\",\"Pasture\",\"PermanentCrop\",\"Residential\",\"River\",\"SeaLake\"]\n",
    "\n",
    "# lets check some images:\n",
    "n_check = 10\n",
    "for n in range(n_check):\n",
    "    print(n)\n",
    "    class_ = np.random.choice(classes,size=1)[0]\n",
    "    print (class_)\n",
    "    example = \"Highway/Highway_15.jpg\".format(class_,class_,randrange(1000))\n",
    "    example = \"{}/{}_{}.jpg\".format(class_,class_,randrange(1000))\n",
    "\n",
    "    img = load_img(\"{}{}\".format(path,example), target_size=target_size)\n",
    "    img\n",
    "    \n"
   ]
  },
  {
   "cell_type": "code",
   "execution_count": 37,
   "id": "51287fe3",
   "metadata": {},
   "outputs": [
    {
     "data": {
      "text/plain": [
       "array([[[168, 162, 150],\n",
       "        [167, 163, 151],\n",
       "        [165, 162, 147],\n",
       "        ...,\n",
       "        [207, 167, 157],\n",
       "        [209, 166, 159],\n",
       "        [211, 168, 161]],\n",
       "\n",
       "       [[169, 161, 150],\n",
       "        [168, 162, 148],\n",
       "        [165, 162, 147],\n",
       "        ...,\n",
       "        [207, 167, 157],\n",
       "        [209, 166, 159],\n",
       "        [211, 168, 161]],\n",
       "\n",
       "       [[170, 160, 148],\n",
       "        [168, 160, 147],\n",
       "        [169, 163, 149],\n",
       "        ...,\n",
       "        [209, 166, 159],\n",
       "        [208, 167, 161],\n",
       "        [206, 165, 159]],\n",
       "\n",
       "       ...,\n",
       "\n",
       "       [[ 97, 120, 114],\n",
       "        [ 97, 120, 114],\n",
       "        [ 89, 111, 108],\n",
       "        ...,\n",
       "        [ 81, 101, 102],\n",
       "        [ 84,  99, 102],\n",
       "        [ 82,  96,  99]],\n",
       "\n",
       "       [[ 90, 115, 111],\n",
       "        [ 92, 115, 109],\n",
       "        [ 93, 113, 111],\n",
       "        ...,\n",
       "        [ 83,  98, 101],\n",
       "        [ 84,  98, 101],\n",
       "        [ 82,  96,  99]],\n",
       "\n",
       "       [[ 90, 115, 111],\n",
       "        [ 92, 114, 111],\n",
       "        [104, 125, 120],\n",
       "        ...,\n",
       "        [ 85,  99, 102],\n",
       "        [ 86, 100, 103],\n",
       "        [ 81,  95,  98]]], dtype=uint8)"
      ]
     },
     "execution_count": 37,
     "metadata": {},
     "output_type": "execute_result"
    }
   ],
   "source": [
    "x =  np.array(img)\n",
    "x"
   ]
  },
  {
   "cell_type": "markdown",
   "id": "43f5fc5d",
   "metadata": {},
   "source": [
    "## Split Dataset into Train/Val/Test (60%/20%/20%)"
   ]
  },
  {
   "cell_type": "code",
   "execution_count": 38,
   "id": "36da19e9",
   "metadata": {},
   "outputs": [
    {
     "name": "stdout",
     "output_type": "stream",
     "text": [
      "Type of image:           AnnualCrop: 3000 images on folder.\n",
      "Type of image:               Forest: 3000 images on folder.\n",
      "Type of image: HerbaceousVegetation: 3000 images on folder.\n",
      "Type of image:              Highway: 2500 images on folder.\n",
      "Type of image:           Industrial: 2500 images on folder.\n",
      "Type of image:              Pasture: 2000 images on folder.\n",
      "Type of image:        PermanentCrop: 2500 images on folder.\n",
      "Type of image:          Residential: 3000 images on folder.\n",
      "Type of image:                River: 2500 images on folder.\n",
      "Type of image:              SeaLake: 3000 images on folder.\n"
     ]
    }
   ],
   "source": [
    "for class_ in classes:\n",
    "    images = os.listdir(os.path.join(path, class_))\n",
    "    print(\"Type of image: %20s: %d images on folder.\" % (class_, len(images)))"
   ]
  },
  {
   "cell_type": "markdown",
   "id": "cc8ad08e-a482-43d8-b596-9684833f784a",
   "metadata": {},
   "source": [
    "We will use the same procedure as for machine learning models.\n",
    "\n",
    "We will have a train, validation and test, and a fulltrain, which will be used for training the last model"
   ]
  },
  {
   "cell_type": "code",
   "execution_count": 39,
   "id": "2b7b4880",
   "metadata": {},
   "outputs": [],
   "source": [
    "for folder in ['train', 'validation', 'test', 'fulltrain']:\n",
    "    for class_ in classes:\n",
    "        directory = os.path.join(folder, class_)\n",
    "        if not os.path.exists(directory):\n",
    "            os.makedirs(directory)\n",
    "            print(\"{} created.\".format(directory))"
   ]
  },
  {
   "cell_type": "code",
   "execution_count": 40,
   "id": "8712e00f",
   "metadata": {},
   "outputs": [
    {
     "name": "stdout",
     "output_type": "stream",
     "text": [
      "AnnualCrop\n",
      "1800 600 600\n",
      "Forest\n",
      "1800 600 600\n",
      "HerbaceousVegetation\n",
      "1800 600 600\n",
      "Highway\n",
      "1500 500 500\n",
      "Industrial\n",
      "1500 500 500\n",
      "Pasture\n",
      "1200 400 400\n",
      "PermanentCrop\n",
      "1500 500 500\n",
      "Residential\n",
      "1800 600 600\n",
      "River\n",
      "1500 500 500\n",
      "SeaLake\n",
      "1800 600 600\n"
     ]
    }
   ],
   "source": [
    "np.random.seed(1)\n",
    "class_dict = {}\n",
    "for class_ in classes:\n",
    "    images = os.listdir(os.path.join(path, class_))\n",
    "    for image in images:\n",
    "        class_dict[image] = class_ \n",
    "        \n",
    "    list_full_train, list_test = train_test_split(images, test_size=0.2, random_state=1)\n",
    "    list_train, list_val = train_test_split(list_full_train, test_size=0.25, random_state=1)\n",
    "    print (class_)\n",
    "    print (len(list_train),len(list_test),len(list_val))\n",
    "    for image in list_train:\n",
    "        shutil.copyfile(\"{}/{}\".format(os.path.join(path, class_),image),\"train/{}/{}\".format(class_,image))\n",
    "    for image in list_full_train:\n",
    "        shutil.copyfile(\"{}/{}\".format(os.path.join(path, class_),image),\"fulltrain/{}/{}\".format(class_,image))\n",
    "    for image in list_test:\n",
    "        shutil.copyfile(\"{}/{}\".format(os.path.join(path, class_),image),\"test/{}/{}\".format(class_,image))\n",
    "    for image in list_val:\n",
    "        shutil.copyfile(\"{}/{}\".format(os.path.join(path, class_),image),\"validation/{}/{}\".format(class_,image))\n"
   ]
  },
  {
   "cell_type": "markdown",
   "id": "0dcd1abc-b6df-4674-aa57-b62a0fc7bdab",
   "metadata": {},
   "source": [
    "We will start creating a Convolutional Neural Network (CNN). This type of models are very good for...\n",
    "\n",
    "converts an image into vector representation, then we have dense vectors and those are taking to do the prediction\n"
   ]
  },
  {
   "cell_type": "code",
   "execution_count": 42,
   "id": "ef0f69c6",
   "metadata": {},
   "outputs": [
    {
     "name": "stderr",
     "output_type": "stream",
     "text": [
      "2023-12-16 22:47:52.277740: E external/local_xla/xla/stream_executor/cuda/cuda_driver.cc:274] failed call to cuInit: CUDA_ERROR_NO_DEVICE: no CUDA-capable device is detected\n"
     ]
    }
   ],
   "source": [
    "def make_model(learning_rate=0.1):\n",
    "    \n",
    "    inputs = keras.Input(shape=(target_size[0], target_size[1], 3))\n",
    "    \n",
    "    conv = keras.layers.Conv2D(filters=32, kernel_size=(3, 3), activation='relu')(inputs)\n",
    "    \n",
    "    pooling = keras.layers.MaxPool2D(strides=(2, 2))(conv)\n",
    "    \n",
    "    flatten = keras.layers.Flatten()(pooling)\n",
    "    \n",
    "    dense = keras.layers.Dense(64, activation='relu')(flatten)\n",
    "    \n",
    "    outputs = keras.layers.Dense(len(classes), activation='softmax')(dense)\n",
    "    \n",
    "    model = keras.Model(inputs, outputs)\n",
    "    \n",
    "    ##############################################\n",
    " \n",
    "    # this changes the weights. There are many types of optimizers. Check also in cs231\n",
    "    #optimizer = keras.optimizers.SGD(learning_rate=learning_rate, momentum=0.8)\n",
    "    optimizer = keras.optimizers.Adam(learning_rate=learning_rate) \n",
    "    # optimizers use gradient descend\n",
    "    #optimizers needs a way to know if it learns anything or not.\n",
    "    \n",
    "    loss = keras.losses.CategoricalCrossentropy(from_logits=False) \n",
    "    # logits False because we have softmax in the output\n",
    "    model.compile(optimizer=optimizer, loss=loss, metrics=['accuracy'])\n",
    "    \n",
    "    return model\n",
    "\n",
    "initial_model = make_model(learning_rate=0.002)"
   ]
  },
  {
   "cell_type": "code",
   "execution_count": 44,
   "id": "3837fd98",
   "metadata": {},
   "outputs": [
    {
     "name": "stdout",
     "output_type": "stream",
     "text": [
      "Model: \"model\"\n",
      "_________________________________________________________________\n",
      " Layer (type)                Output Shape              Param #   \n",
      "=================================================================\n",
      " input_1 (InputLayer)        [(None, 64, 64, 3)]       0         \n",
      "                                                                 \n",
      " conv2d (Conv2D)             (None, 62, 62, 32)        896       \n",
      "                                                                 \n",
      " max_pooling2d (MaxPooling2  (None, 31, 31, 32)        0         \n",
      " D)                                                              \n",
      "                                                                 \n",
      " flatten (Flatten)           (None, 30752)             0         \n",
      "                                                                 \n",
      " dense (Dense)               (None, 64)                1968192   \n",
      "                                                                 \n",
      " dense_1 (Dense)             (None, 10)                650       \n",
      "                                                                 \n",
      "=================================================================\n",
      "Total params: 1969738 (7.51 MB)\n",
      "Trainable params: 1969738 (7.51 MB)\n",
      "Non-trainable params: 0 (0.00 Byte)\n",
      "_________________________________________________________________\n"
     ]
    }
   ],
   "source": [
    "initial_model.summary()"
   ]
  },
  {
   "cell_type": "code",
   "execution_count": 87,
   "id": "d02f2930",
   "metadata": {},
   "outputs": [
    {
     "name": "stdout",
     "output_type": "stream",
     "text": [
      "Found 16200 images belonging to 10 classes.\n",
      "Found 5400 images belonging to 10 classes.\n"
     ]
    }
   ],
   "source": [
    "\n",
    "train_datagenerator = ImageDataGenerator(rescale=1./255)\n",
    "\n",
    "train_data = train_datagenerator.flow_from_directory(\n",
    "    \"train/\",\n",
    "    target_size=target_size,\n",
    "    batch_size=20,\n",
    "    shuffle=True\n",
    ")\n",
    "val_datagenerator = ImageDataGenerator(rescale=1./255)\n",
    "\n",
    "val_data = val_datagenerator.flow_from_directory(\n",
    "    \"validation/\",\n",
    "    target_size=target_size,\n",
    "    batch_size=20,\n",
    "    shuffle=False # no need to shuffle for validation\n",
    ")\n",
    "\n"
   ]
  },
  {
   "cell_type": "code",
   "execution_count": 88,
   "id": "226ed969",
   "metadata": {},
   "outputs": [
    {
     "data": {
      "text/plain": [
       "(20, 64, 64, 3)"
      ]
     },
     "execution_count": 88,
     "metadata": {},
     "output_type": "execute_result"
    }
   ],
   "source": [
    "X, y = next(train_data) # to get next batch\n",
    "X.shape\n",
    "\n"
   ]
  },
  {
   "cell_type": "code",
   "execution_count": 89,
   "id": "250f8de4",
   "metadata": {},
   "outputs": [
    {
     "data": {
      "text/plain": [
       "array([[0., 0., 0., 0., 0., 0., 0., 0., 1., 0.],\n",
       "       [1., 0., 0., 0., 0., 0., 0., 0., 0., 0.],\n",
       "       [0., 0., 0., 0., 0., 0., 0., 0., 1., 0.],\n",
       "       [0., 0., 0., 0., 0., 1., 0., 0., 0., 0.],\n",
       "       [0., 0., 0., 1., 0., 0., 0., 0., 0., 0.]], dtype=float32)"
      ]
     },
     "execution_count": 89,
     "metadata": {},
     "output_type": "execute_result"
    }
   ],
   "source": [
    "y[:5]"
   ]
  },
  {
   "cell_type": "markdown",
   "id": "523d7ef1-2dd4-41b0-bf75-bb414351b250",
   "metadata": {},
   "source": [
    "Lets's create a dictionary to easily convert later the number to the type"
   ]
  },
  {
   "cell_type": "code",
   "execution_count": 90,
   "id": "b824fbd3",
   "metadata": {},
   "outputs": [],
   "source": [
    "class_pred_dict = {v:k for k, v in train_data.class_indices.items()}\n"
   ]
  },
  {
   "cell_type": "code",
   "execution_count": 91,
   "id": "0ae08e8f",
   "metadata": {},
   "outputs": [
    {
     "data": {
      "text/plain": [
       "{0: 'AnnualCrop',\n",
       " 1: 'Forest',\n",
       " 2: 'HerbaceousVegetation',\n",
       " 3: 'Highway',\n",
       " 4: 'Industrial',\n",
       " 5: 'Pasture',\n",
       " 6: 'PermanentCrop',\n",
       " 7: 'Residential',\n",
       " 8: 'River',\n",
       " 9: 'SeaLake'}"
      ]
     },
     "execution_count": 91,
     "metadata": {},
     "output_type": "execute_result"
    }
   ],
   "source": [
    "class_pred_dict"
   ]
  },
  {
   "cell_type": "markdown",
   "id": "da24d1d2-d261-4dd6-803f-8ce46cdd7486",
   "metadata": {},
   "source": [
    "Let's check the accuracy of this first model"
   ]
  },
  {
   "cell_type": "code",
   "execution_count": null,
   "id": "313b72dd-108d-4358-ac12-d084f6792f6f",
   "metadata": {},
   "outputs": [],
   "source": [
    "history = initial_model.fit(\n",
    "        train_data,\n",
    "        epochs=10,\n",
    "        validation_data=val_data,\n",
    "        validation_steps=10,\n",
    "    )\n",
    "\n",
    "plt.plot(history.history['accuracy'], label=\"training\")\n",
    "plt.plot(history.history['val_accuracy'], label=\"validation\")\n",
    "plt1.legend()\n"
   ]
  },
  {
   "cell_type": "markdown",
   "id": "d1dd21d9-17f8-4dcf-83bd-5ef87ac301db",
   "metadata": {},
   "source": [
    "First simple model has a accuracy of ..."
   ]
  },
  {
   "cell_type": "markdown",
   "id": "e937a3a2-b50d-4c18-b362-cc9ccd6da779",
   "metadata": {},
   "source": [
    "### Parameter Tunning\n",
    "\n",
    "We will tune the learning rate, the convolutional layers and the dropout rate.\n",
    "We could tune more paremeters but we will stick to these three due to training time\n",
    "1) learning rate: It is ... # the learning rate (eta) is the most important value to adjust.\n",
    "learning rate is like how fast we can read books. reading 1 book only a year is slow but we learn all the book,\n",
    "while if we read 1 every day maybe we do not get all the concepts, maybe we just check images and so. SO we\n",
    "need a medium speed\n",
    "2) Convolutional layers:\n",
    "3) dropout rate\n",
    "4) Maybe sizer inner also?\n",
    "\n",
    "We will also carry one data augmentation..."
   ]
  },
  {
   "cell_type": "code",
   "execution_count": 118,
   "id": "68fd8743",
   "metadata": {},
   "outputs": [
    {
     "name": "stdout",
     "output_type": "stream",
     "text": [
      "0.0001\n",
      "Epoch 1/20\n",
      "810/810 [==============================] - 11s 13ms/step - loss: 0.9237 - accuracy: 0.6694 - val_loss: 1.4093 - val_accuracy: 0.6000\n",
      "Epoch 2/20\n",
      "810/810 [==============================] - 11s 13ms/step - loss: 0.8601 - accuracy: 0.6896 - val_loss: 0.8484 - val_accuracy: 0.6900\n",
      "Epoch 3/20\n",
      "810/810 [==============================] - 11s 13ms/step - loss: 0.8158 - accuracy: 0.7070 - val_loss: 1.1282 - val_accuracy: 0.6500\n",
      "Epoch 4/20\n",
      "810/810 [==============================] - 11s 13ms/step - loss: 0.7680 - accuracy: 0.7223 - val_loss: 1.7477 - val_accuracy: 0.4300\n",
      "Epoch 5/20\n",
      "810/810 [==============================] - 11s 13ms/step - loss: 0.7351 - accuracy: 0.7312 - val_loss: 1.0023 - val_accuracy: 0.6750\n",
      "Epoch 6/20\n",
      "810/810 [==============================] - 11s 13ms/step - loss: 0.7011 - accuracy: 0.7480 - val_loss: 0.8620 - val_accuracy: 0.6800\n",
      "Epoch 7/20\n",
      "810/810 [==============================] - 11s 13ms/step - loss: 0.6638 - accuracy: 0.7596 - val_loss: 0.9428 - val_accuracy: 0.6750\n",
      "Epoch 8/20\n",
      "810/810 [==============================] - 11s 13ms/step - loss: 0.6317 - accuracy: 0.7720 - val_loss: 0.9069 - val_accuracy: 0.7050\n",
      "Epoch 9/20\n",
      "810/810 [==============================] - 11s 13ms/step - loss: 0.6051 - accuracy: 0.7810 - val_loss: 1.3440 - val_accuracy: 0.6300\n",
      "Epoch 10/20\n",
      "810/810 [==============================] - 11s 13ms/step - loss: 0.5699 - accuracy: 0.7971 - val_loss: 0.9137 - val_accuracy: 0.7050\n",
      "Epoch 11/20\n",
      "810/810 [==============================] - 11s 13ms/step - loss: 0.5436 - accuracy: 0.8054 - val_loss: 1.1097 - val_accuracy: 0.6500\n",
      "Epoch 12/20\n",
      "810/810 [==============================] - 11s 13ms/step - loss: 0.5187 - accuracy: 0.8128 - val_loss: 0.6094 - val_accuracy: 0.7800\n",
      "Epoch 13/20\n",
      "810/810 [==============================] - 11s 13ms/step - loss: 0.4964 - accuracy: 0.8217 - val_loss: 0.6288 - val_accuracy: 0.7750\n",
      "Epoch 14/20\n",
      "810/810 [==============================] - 11s 13ms/step - loss: 0.4585 - accuracy: 0.8391 - val_loss: 0.7233 - val_accuracy: 0.7500\n",
      "Epoch 15/20\n",
      "810/810 [==============================] - 11s 13ms/step - loss: 0.4388 - accuracy: 0.8454 - val_loss: 0.6427 - val_accuracy: 0.7750\n",
      "Epoch 16/20\n",
      "810/810 [==============================] - 11s 13ms/step - loss: 0.4149 - accuracy: 0.8567 - val_loss: 1.0231 - val_accuracy: 0.6600\n",
      "Epoch 17/20\n",
      "810/810 [==============================] - 11s 13ms/step - loss: 0.3922 - accuracy: 0.8634 - val_loss: 0.6686 - val_accuracy: 0.7650\n",
      "Epoch 18/20\n",
      "810/810 [==============================] - 11s 13ms/step - loss: 0.3681 - accuracy: 0.8729 - val_loss: 0.8618 - val_accuracy: 0.7400\n",
      "Epoch 19/20\n",
      "810/810 [==============================] - 11s 13ms/step - loss: 0.3470 - accuracy: 0.8823 - val_loss: 0.7722 - val_accuracy: 0.7500\n",
      "Epoch 20/20\n",
      "810/810 [==============================] - 11s 14ms/step - loss: 0.3282 - accuracy: 0.8884 - val_loss: 0.6144 - val_accuracy: 0.7750\n",
      "\n",
      "\n",
      "0.001\n",
      "Epoch 1/20\n",
      "810/810 [==============================] - 11s 14ms/step - loss: 0.3084 - accuracy: 0.8946 - val_loss: 0.6384 - val_accuracy: 0.7800\n",
      "Epoch 2/20\n",
      "810/810 [==============================] - 12s 14ms/step - loss: 0.2849 - accuracy: 0.9051 - val_loss: 0.9933 - val_accuracy: 0.7200\n",
      "Epoch 3/20\n",
      "810/810 [==============================] - 11s 14ms/step - loss: 0.2658 - accuracy: 0.9106 - val_loss: 0.6180 - val_accuracy: 0.8150\n",
      "Epoch 4/20\n",
      "810/810 [==============================] - 11s 14ms/step - loss: 0.2524 - accuracy: 0.9165 - val_loss: 0.5480 - val_accuracy: 0.8150\n",
      "Epoch 5/20\n",
      "810/810 [==============================] - 11s 13ms/step - loss: 0.2304 - accuracy: 0.9244 - val_loss: 0.7290 - val_accuracy: 0.7700\n",
      "Epoch 6/20\n",
      "810/810 [==============================] - 11s 13ms/step - loss: 0.2186 - accuracy: 0.9281 - val_loss: 0.7201 - val_accuracy: 0.7700\n",
      "Epoch 7/20\n",
      "810/810 [==============================] - 11s 13ms/step - loss: 0.2127 - accuracy: 0.9294 - val_loss: 0.8910 - val_accuracy: 0.7450\n",
      "Epoch 8/20\n",
      "810/810 [==============================] - 11s 13ms/step - loss: 0.1918 - accuracy: 0.9385 - val_loss: 1.0496 - val_accuracy: 0.6900\n",
      "Epoch 9/20\n",
      "810/810 [==============================] - 11s 13ms/step - loss: 0.1762 - accuracy: 0.9447 - val_loss: 0.8684 - val_accuracy: 0.7700\n",
      "Epoch 10/20\n",
      "810/810 [==============================] - 11s 13ms/step - loss: 0.1640 - accuracy: 0.9507 - val_loss: 0.6612 - val_accuracy: 0.8000\n",
      "Epoch 11/20\n",
      "810/810 [==============================] - 11s 13ms/step - loss: 0.1592 - accuracy: 0.9522 - val_loss: 1.3029 - val_accuracy: 0.6750\n",
      "Epoch 12/20\n",
      "810/810 [==============================] - 11s 13ms/step - loss: 0.1425 - accuracy: 0.9574 - val_loss: 0.8406 - val_accuracy: 0.7600\n",
      "Epoch 13/20\n",
      "810/810 [==============================] - 11s 13ms/step - loss: 0.1278 - accuracy: 0.9633 - val_loss: 0.9600 - val_accuracy: 0.7600\n",
      "Epoch 14/20\n",
      "810/810 [==============================] - 11s 13ms/step - loss: 0.1176 - accuracy: 0.9665 - val_loss: 0.9615 - val_accuracy: 0.7600\n",
      "Epoch 15/20\n",
      "810/810 [==============================] - 11s 13ms/step - loss: 0.1172 - accuracy: 0.9659 - val_loss: 1.3131 - val_accuracy: 0.6950\n",
      "Epoch 16/20\n",
      "810/810 [==============================] - 11s 13ms/step - loss: 0.1068 - accuracy: 0.9709 - val_loss: 1.0680 - val_accuracy: 0.7400\n",
      "Epoch 17/20\n",
      "810/810 [==============================] - 11s 13ms/step - loss: 0.0955 - accuracy: 0.9742 - val_loss: 0.7711 - val_accuracy: 0.7950\n",
      "Epoch 18/20\n",
      "810/810 [==============================] - 11s 13ms/step - loss: 0.0911 - accuracy: 0.9760 - val_loss: 1.2558 - val_accuracy: 0.7100\n",
      "Epoch 19/20\n",
      "810/810 [==============================] - 11s 13ms/step - loss: 0.0887 - accuracy: 0.9749 - val_loss: 1.0685 - val_accuracy: 0.7450\n",
      "Epoch 20/20\n",
      "810/810 [==============================] - 11s 13ms/step - loss: 0.0750 - accuracy: 0.9815 - val_loss: 0.7987 - val_accuracy: 0.7950\n",
      "\n",
      "\n",
      "0.01\n",
      "Epoch 1/20\n",
      "810/810 [==============================] - 11s 13ms/step - loss: 0.0748 - accuracy: 0.9799 - val_loss: 1.0340 - val_accuracy: 0.7700\n",
      "Epoch 2/20\n",
      "810/810 [==============================] - 11s 13ms/step - loss: 0.0697 - accuracy: 0.9825 - val_loss: 1.1276 - val_accuracy: 0.7450\n",
      "Epoch 3/20\n",
      "810/810 [==============================] - 11s 13ms/step - loss: 0.0670 - accuracy: 0.9833 - val_loss: 0.8319 - val_accuracy: 0.7850\n",
      "Epoch 4/20\n",
      "810/810 [==============================] - 11s 13ms/step - loss: 0.0581 - accuracy: 0.9859 - val_loss: 1.3077 - val_accuracy: 0.6950\n",
      "Epoch 5/20\n",
      "810/810 [==============================] - 11s 13ms/step - loss: 0.0523 - accuracy: 0.9877 - val_loss: 1.2166 - val_accuracy: 0.7650\n",
      "Epoch 6/20\n",
      "810/810 [==============================] - 11s 13ms/step - loss: 0.0553 - accuracy: 0.9869 - val_loss: 1.2577 - val_accuracy: 0.7500\n",
      "Epoch 7/20\n",
      "810/810 [==============================] - 11s 14ms/step - loss: 0.0476 - accuracy: 0.9893 - val_loss: 1.4349 - val_accuracy: 0.7000\n",
      "Epoch 8/20\n",
      "810/810 [==============================] - 11s 13ms/step - loss: 0.0506 - accuracy: 0.9882 - val_loss: 1.1245 - val_accuracy: 0.7600\n",
      "Epoch 9/20\n",
      "810/810 [==============================] - 11s 13ms/step - loss: 0.0459 - accuracy: 0.9894 - val_loss: 1.2116 - val_accuracy: 0.7450\n",
      "Epoch 10/20\n",
      "810/810 [==============================] - 11s 13ms/step - loss: 0.0370 - accuracy: 0.9929 - val_loss: 1.1788 - val_accuracy: 0.7550\n",
      "Epoch 11/20\n",
      "810/810 [==============================] - 11s 13ms/step - loss: 0.0352 - accuracy: 0.9928 - val_loss: 1.4267 - val_accuracy: 0.7150\n",
      "Epoch 12/20\n",
      "810/810 [==============================] - 11s 13ms/step - loss: 0.0329 - accuracy: 0.9931 - val_loss: 1.2218 - val_accuracy: 0.7600\n",
      "Epoch 13/20\n",
      "810/810 [==============================] - 11s 13ms/step - loss: 0.0372 - accuracy: 0.9916 - val_loss: 1.3799 - val_accuracy: 0.7300\n",
      "Epoch 14/20\n",
      "810/810 [==============================] - 11s 13ms/step - loss: 0.0298 - accuracy: 0.9938 - val_loss: 0.8256 - val_accuracy: 0.8000\n",
      "Epoch 15/20\n",
      "810/810 [==============================] - 11s 13ms/step - loss: 0.0301 - accuracy: 0.9937 - val_loss: 1.5166 - val_accuracy: 0.7050\n",
      "Epoch 16/20\n",
      "810/810 [==============================] - 11s 13ms/step - loss: 0.0257 - accuracy: 0.9960 - val_loss: 1.4222 - val_accuracy: 0.7300\n",
      "Epoch 17/20\n",
      "810/810 [==============================] - 11s 13ms/step - loss: 0.0244 - accuracy: 0.9957 - val_loss: 1.2771 - val_accuracy: 0.7500\n",
      "Epoch 18/20\n",
      "810/810 [==============================] - 11s 13ms/step - loss: 0.0220 - accuracy: 0.9965 - val_loss: 0.7070 - val_accuracy: 0.8200\n",
      "Epoch 19/20\n",
      "810/810 [==============================] - 11s 13ms/step - loss: 0.0377 - accuracy: 0.9906 - val_loss: 1.2242 - val_accuracy: 0.7700\n",
      "Epoch 20/20\n",
      "810/810 [==============================] - 11s 13ms/step - loss: 0.0229 - accuracy: 0.9959 - val_loss: 1.3589 - val_accuracy: 0.7500\n",
      "\n",
      "\n",
      "0.1\n",
      "Epoch 1/20\n",
      "810/810 [==============================] - 11s 13ms/step - loss: 0.0368 - accuracy: 0.9914 - val_loss: 1.2295 - val_accuracy: 0.7650\n",
      "Epoch 2/20\n",
      "810/810 [==============================] - 11s 13ms/step - loss: 0.0205 - accuracy: 0.9972 - val_loss: 1.4730 - val_accuracy: 0.7400\n",
      "Epoch 3/20\n",
      "810/810 [==============================] - 11s 13ms/step - loss: 0.0203 - accuracy: 0.9964 - val_loss: 1.3033 - val_accuracy: 0.7550\n",
      "Epoch 4/20\n",
      "810/810 [==============================] - 11s 13ms/step - loss: 0.0201 - accuracy: 0.9969 - val_loss: 1.4059 - val_accuracy: 0.7400\n",
      "Epoch 5/20\n",
      "810/810 [==============================] - 11s 13ms/step - loss: 0.0196 - accuracy: 0.9965 - val_loss: 1.2483 - val_accuracy: 0.7550\n",
      "Epoch 6/20\n",
      "810/810 [==============================] - 11s 13ms/step - loss: 0.0170 - accuracy: 0.9977 - val_loss: 1.3158 - val_accuracy: 0.7750\n",
      "Epoch 7/20\n",
      "810/810 [==============================] - 11s 13ms/step - loss: 0.0166 - accuracy: 0.9973 - val_loss: 1.4933 - val_accuracy: 0.7400\n",
      "Epoch 8/20\n",
      "810/810 [==============================] - 11s 13ms/step - loss: 0.0141 - accuracy: 0.9979 - val_loss: 1.5142 - val_accuracy: 0.7450\n",
      "Epoch 9/20\n",
      "810/810 [==============================] - 11s 13ms/step - loss: 0.0144 - accuracy: 0.9977 - val_loss: 1.2066 - val_accuracy: 0.7750\n",
      "Epoch 10/20\n",
      "810/810 [==============================] - 11s 13ms/step - loss: 0.0174 - accuracy: 0.9969 - val_loss: 1.7081 - val_accuracy: 0.7150\n",
      "Epoch 11/20\n",
      "810/810 [==============================] - 10s 13ms/step - loss: 0.0150 - accuracy: 0.9974 - val_loss: 1.2740 - val_accuracy: 0.7600\n",
      "Epoch 12/20\n",
      "810/810 [==============================] - 10s 13ms/step - loss: 0.0123 - accuracy: 0.9985 - val_loss: 1.5702 - val_accuracy: 0.7400\n",
      "Epoch 13/20\n",
      "810/810 [==============================] - 10s 13ms/step - loss: 0.0114 - accuracy: 0.9988 - val_loss: 1.6094 - val_accuracy: 0.7250\n",
      "Epoch 14/20\n",
      "810/810 [==============================] - 10s 13ms/step - loss: 0.0102 - accuracy: 0.9991 - val_loss: 1.4326 - val_accuracy: 0.7450\n",
      "Epoch 15/20\n",
      "810/810 [==============================] - 10s 13ms/step - loss: 0.0105 - accuracy: 0.9991 - val_loss: 1.4916 - val_accuracy: 0.7350\n",
      "Epoch 16/20\n",
      "810/810 [==============================] - 10s 13ms/step - loss: 0.0104 - accuracy: 0.9987 - val_loss: 1.9288 - val_accuracy: 0.7050\n",
      "Epoch 17/20\n",
      "810/810 [==============================] - 10s 13ms/step - loss: 0.0106 - accuracy: 0.9986 - val_loss: 1.5045 - val_accuracy: 0.7400\n",
      "Epoch 18/20\n",
      "810/810 [==============================] - 10s 13ms/step - loss: 0.0109 - accuracy: 0.9988 - val_loss: 1.3564 - val_accuracy: 0.7750\n",
      "Epoch 19/20\n",
      "810/810 [==============================] - 10s 13ms/step - loss: 0.0117 - accuracy: 0.9979 - val_loss: 1.6248 - val_accuracy: 0.7300\n",
      "Epoch 20/20\n",
      "810/810 [==============================] - 11s 13ms/step - loss: 0.0084 - accuracy: 0.9994 - val_loss: 1.4739 - val_accuracy: 0.7500\n",
      "\n",
      "\n"
     ]
    }
   ],
   "source": [
    "scores={}\n",
    "\n",
    "for lr in [0.0001, 0.001, 0.01, 0.1]:\n",
    "    print(lr)\n",
    "    model = make_model(learning_rate=lr)\n",
    "    history = model.fit(\n",
    "        train_data,\n",
    "        #steps_per_epoch=100,\n",
    "        epochs=20,\n",
    "        validation_data=val_data,\n",
    "        validation_steps=10,\n",
    "        #workers=2560 # for GPU\n",
    "    )\n",
    "    scores[lr] = history.history\n",
    "    \n",
    "    print()\n",
    "    print()\n"
   ]
  },
  {
   "cell_type": "code",
   "execution_count": 126,
   "id": "6b0e9fd9",
   "metadata": {},
   "outputs": [
    {
     "data": {
      "image/png": "[encoded data removed]",
      "text/plain": [
       "<Figure size 1200x500 with 2 Axes>"
      ]
     },
     "metadata": {},
     "output_type": "display_data"
    }
   ],
   "source": [
    "def plot_accuracy(scores,title):\n",
    "    fig, (ax1,ax2) = plt.subplots(1,2,figsize=(12,5),sharey=True)\n",
    "    for label, hist in scores.items():\n",
    "        ax1.plot(hist['accuracy'], label=label)\n",
    "        ax2.plot(hist['val_accuracy'], label=label)\n",
    "    ax1.legend()\n",
    "    ax2.legend()\n",
    "    ax1.set_ylim([0.5,1])\n",
    "    ax1.set_title(\"Training. {}\".format(title))\n",
    "    ax2.set_title(\"Validation. {}\".format(title))\n",
    "\n",
    "\n",
    "plot_accuracy(scores,\"learning_rate\")\n",
    "\n",
    "# we can see that it is very close to 1 the training, while for validation not more than 80, which is overfitting.\n"
   ]
  },
  {
   "cell_type": "code",
   "execution_count": 131,
   "id": "f8c5e243",
   "metadata": {},
   "outputs": [],
   "source": [
    "def make_tunned_model(conv_layers=1,learning_rate=0.1, dropout_rate=0.2):\n",
    "    \n",
    "    inputs = keras.Input(shape=(target_size[0], target_size[1], 3))\n",
    "    \n",
    "    conv = keras.layers.Conv2D(filters=32, kernel_size=(3, 3), activation='relu')(inputs)\n",
    "    \n",
    "    pooling = keras.layers.MaxPool2D(strides=(2, 2))(conv)\n",
    "    \n",
    "    for layer in range(conv_layers):\n",
    "        conv = keras.layers.Conv2D(filters=32, kernel_size=(3, 3), activation='relu')(pooling)\n",
    "        pooling = keras.layers.MaxPool2D(strides=(2, 2))(conv)\n",
    "    \n",
    "    flatten = keras.layers.Flatten()(pooling)\n",
    "    \n",
    "    dropout = keras.layers.Dropout(rate=dropout_rate)(flatten)\n",
    "    \n",
    "    dense = keras.layers.Dense(64, activation='relu')(dropout)    \n",
    "    ---dense = keras.layers.Dense(size_inner, activation='relu')(dropout) # we could also change number of layers here\n",
    "    \n",
    "    #dense = keras.layers.Dense(64, activation='relu')(flatten)\n",
    "    \n",
    "    outputs = keras.layers.Dense(len(classes), activation='softmax')(dense)\n",
    "    \n",
    "    model = keras.Model(inputs, outputs)\n",
    "    \n",
    "    ##############################################\n",
    " \n",
    "\n",
    "    optimizer = keras.optimizers.SGD(learning_rate=learning_rate, momentum=0.8)\n",
    "    \n",
    "    loss = keras.losses.CategoricalCrossentropy(from_logits=False)\n",
    "    model.compile(optimizer=optimizer, loss=loss, metrics=['accuracy'])\n",
    "    \n",
    "    return model\n",
    "\n"
   ]
  },
  {
   "cell_type": "code",
   "execution_count": 133,
   "id": "62c3edfe",
   "metadata": {},
   "outputs": [
    {
     "name": "stdout",
     "output_type": "stream",
     "text": [
      "0.1\n",
      "Epoch 1/10\n",
      "810/810 [==============================] - 12s 15ms/step - loss: 0.0103 - accuracy: 0.9986 - val_loss: 1.3689 - val_accuracy: 0.7700\n",
      "Epoch 2/10\n",
      "810/810 [==============================] - 12s 15ms/step - loss: 0.0113 - accuracy: 0.9981 - val_loss: 1.8564 - val_accuracy: 0.7350\n",
      "Epoch 3/10\n",
      "810/810 [==============================] - 12s 15ms/step - loss: 0.0130 - accuracy: 0.9974 - val_loss: 1.4446 - val_accuracy: 0.7600\n",
      "Epoch 4/10\n",
      "810/810 [==============================] - 12s 15ms/step - loss: 0.0068 - accuracy: 0.9994 - val_loss: 1.5430 - val_accuracy: 0.7500\n",
      "Epoch 5/10\n",
      "810/810 [==============================] - 12s 15ms/step - loss: 0.0072 - accuracy: 0.9994 - val_loss: 1.5478 - val_accuracy: 0.7550\n",
      "Epoch 6/10\n",
      "810/810 [==============================] - 12s 15ms/step - loss: 0.0097 - accuracy: 0.9985 - val_loss: 1.4412 - val_accuracy: 0.7650\n",
      "Epoch 7/10\n",
      "810/810 [==============================] - 12s 15ms/step - loss: 0.0063 - accuracy: 0.9997 - val_loss: 1.7367 - val_accuracy: 0.7200\n",
      "Epoch 8/10\n",
      "810/810 [==============================] - 12s 15ms/step - loss: 0.0372 - accuracy: 0.9899 - val_loss: 1.4247 - val_accuracy: 0.7500\n",
      "Epoch 9/10\n",
      "810/810 [==============================] - 12s 14ms/step - loss: 0.0071 - accuracy: 0.9997 - val_loss: 1.6023 - val_accuracy: 0.7350\n",
      "Epoch 10/10\n",
      "810/810 [==============================] - 12s 14ms/step - loss: 0.0071 - accuracy: 0.9994 - val_loss: 1.6177 - val_accuracy: 0.7400\n",
      "\n",
      "\n",
      "0.2\n",
      "Epoch 1/10\n",
      "810/810 [==============================] - 12s 14ms/step - loss: 0.0063 - accuracy: 0.9996 - val_loss: 1.5700 - val_accuracy: 0.7400\n",
      "Epoch 2/10\n",
      "810/810 [==============================] - 12s 14ms/step - loss: 0.0063 - accuracy: 0.9995 - val_loss: 1.6319 - val_accuracy: 0.7300\n",
      "Epoch 3/10\n",
      "810/810 [==============================] - 12s 15ms/step - loss: 0.0070 - accuracy: 0.9994 - val_loss: 1.5888 - val_accuracy: 0.7550\n",
      "Epoch 4/10\n",
      "810/810 [==============================] - 12s 14ms/step - loss: 0.0063 - accuracy: 0.9994 - val_loss: 1.5601 - val_accuracy: 0.7550\n",
      "Epoch 5/10\n",
      "810/810 [==============================] - 12s 14ms/step - loss: 0.0070 - accuracy: 0.9988 - val_loss: 1.3482 - val_accuracy: 0.7750\n",
      "Epoch 6/10\n",
      "810/810 [==============================] - 12s 14ms/step - loss: 0.0055 - accuracy: 0.9996 - val_loss: 1.5615 - val_accuracy: 0.7650\n",
      "Epoch 7/10\n",
      "810/810 [==============================] - 12s 14ms/step - loss: 0.0042 - accuracy: 0.9999 - val_loss: 1.5665 - val_accuracy: 0.7550\n",
      "Epoch 8/10\n",
      "810/810 [==============================] - 12s 15ms/step - loss: 0.0054 - accuracy: 0.9995 - val_loss: 1.6735 - val_accuracy: 0.7450\n",
      "Epoch 9/10\n",
      "810/810 [==============================] - 12s 14ms/step - loss: 0.0053 - accuracy: 0.9994 - val_loss: 1.6302 - val_accuracy: 0.7550\n",
      "Epoch 10/10\n",
      "810/810 [==============================] - 12s 14ms/step - loss: 0.0049 - accuracy: 0.9997 - val_loss: 1.6546 - val_accuracy: 0.7400\n",
      "\n",
      "\n",
      "0.3\n",
      "Epoch 1/10\n",
      "810/810 [==============================] - 12s 15ms/step - loss: 0.0041 - accuracy: 0.9998 - val_loss: 1.5037 - val_accuracy: 0.7650\n",
      "Epoch 2/10\n",
      "810/810 [==============================] - 12s 14ms/step - loss: 0.0045 - accuracy: 0.9996 - val_loss: 1.6225 - val_accuracy: 0.7650\n",
      "Epoch 3/10\n",
      "810/810 [==============================] - 12s 14ms/step - loss: 0.0046 - accuracy: 0.9998 - val_loss: 1.5311 - val_accuracy: 0.7600\n",
      "Epoch 4/10\n",
      "810/810 [==============================] - 12s 14ms/step - loss: 0.0038 - accuracy: 0.9999 - val_loss: 1.6179 - val_accuracy: 0.7600\n",
      "Epoch 5/10\n",
      "810/810 [==============================] - 12s 15ms/step - loss: 0.0071 - accuracy: 0.9990 - val_loss: 1.2203 - val_accuracy: 0.7950\n",
      "Epoch 6/10\n",
      "810/810 [==============================] - 12s 15ms/step - loss: 0.0304 - accuracy: 0.9914 - val_loss: 1.7071 - val_accuracy: 0.7450\n",
      "Epoch 7/10\n",
      "810/810 [==============================] - 12s 14ms/step - loss: 0.0085 - accuracy: 0.9989 - val_loss: 1.5246 - val_accuracy: 0.7550\n",
      "Epoch 8/10\n",
      "810/810 [==============================] - 11s 13ms/step - loss: 0.0044 - accuracy: 0.9999 - val_loss: 1.7213 - val_accuracy: 0.7350\n",
      "Epoch 9/10\n",
      "810/810 [==============================] - 11s 14ms/step - loss: 0.0043 - accuracy: 0.9996 - val_loss: 1.5654 - val_accuracy: 0.7500\n",
      "Epoch 10/10\n",
      "810/810 [==============================] - 12s 15ms/step - loss: 0.0057 - accuracy: 0.9993 - val_loss: 1.6386 - val_accuracy: 0.7600\n",
      "\n",
      "\n",
      "0.4\n",
      "Epoch 1/10\n",
      "810/810 [==============================] - 12s 15ms/step - loss: 0.0042 - accuracy: 0.9997 - val_loss: 1.5169 - val_accuracy: 0.7750\n",
      "Epoch 2/10\n",
      "810/810 [==============================] - 12s 15ms/step - loss: 0.0465 - accuracy: 0.9886 - val_loss: 1.5278 - val_accuracy: 0.7550\n",
      "Epoch 3/10\n",
      "810/810 [==============================] - 12s 15ms/step - loss: 0.0054 - accuracy: 0.9998 - val_loss: 1.5573 - val_accuracy: 0.7500\n",
      "Epoch 4/10\n",
      "810/810 [==============================] - 12s 15ms/step - loss: 0.0046 - accuracy: 0.9997 - val_loss: 1.4126 - val_accuracy: 0.7750\n",
      "Epoch 5/10\n",
      "810/810 [==============================] - 12s 15ms/step - loss: 0.0046 - accuracy: 0.9997 - val_loss: 1.5486 - val_accuracy: 0.7550\n",
      "Epoch 6/10\n",
      "810/810 [==============================] - 12s 15ms/step - loss: 0.0033 - accuracy: 0.9999 - val_loss: 1.4518 - val_accuracy: 0.7850\n",
      "Epoch 7/10\n",
      "810/810 [==============================] - 12s 15ms/step - loss: 0.0034 - accuracy: 0.9999 - val_loss: 1.5082 - val_accuracy: 0.7700\n",
      "Epoch 8/10\n",
      "810/810 [==============================] - 12s 15ms/step - loss: 0.0045 - accuracy: 0.9996 - val_loss: 1.6756 - val_accuracy: 0.7500\n",
      "Epoch 9/10\n",
      "810/810 [==============================] - 12s 14ms/step - loss: 0.0032 - accuracy: 0.9999 - val_loss: 1.6045 - val_accuracy: 0.7550\n",
      "Epoch 10/10\n",
      "810/810 [==============================] - 11s 14ms/step - loss: 0.0042 - accuracy: 0.9994 - val_loss: 1.6109 - val_accuracy: 0.7650\n",
      "\n",
      "\n",
      "0.5\n",
      "Epoch 1/10\n",
      "810/810 [==============================] - 12s 15ms/step - loss: 0.0032 - accuracy: 0.9998 - val_loss: 1.5663 - val_accuracy: 0.7750\n",
      "Epoch 2/10\n",
      "810/810 [==============================] - 12s 14ms/step - loss: 0.0035 - accuracy: 0.9996 - val_loss: 1.6391 - val_accuracy: 0.7600\n",
      "Epoch 3/10\n",
      "810/810 [==============================] - 12s 15ms/step - loss: 0.0028 - accuracy: 0.9999 - val_loss: 1.7681 - val_accuracy: 0.7450\n",
      "Epoch 4/10\n",
      "810/810 [==============================] - 12s 15ms/step - loss: 0.0029 - accuracy: 0.9998 - val_loss: 1.6083 - val_accuracy: 0.7650\n",
      "Epoch 5/10\n",
      "810/810 [==============================] - 12s 14ms/step - loss: 0.0025 - accuracy: 0.9999 - val_loss: 1.6146 - val_accuracy: 0.7650\n",
      "Epoch 6/10\n",
      "810/810 [==============================] - 12s 15ms/step - loss: 0.0058 - accuracy: 0.9987 - val_loss: 1.6067 - val_accuracy: 0.7600\n",
      "Epoch 7/10\n",
      "810/810 [==============================] - 12s 14ms/step - loss: 0.0034 - accuracy: 0.9998 - val_loss: 1.4541 - val_accuracy: 0.7850\n",
      "Epoch 8/10\n",
      "810/810 [==============================] - 12s 14ms/step - loss: 0.0027 - accuracy: 0.9999 - val_loss: 1.6558 - val_accuracy: 0.7600\n",
      "Epoch 9/10\n",
      "810/810 [==============================] - 12s 15ms/step - loss: 0.0028 - accuracy: 0.9999 - val_loss: 1.8311 - val_accuracy: 0.7450\n",
      "Epoch 10/10\n",
      "810/810 [==============================] - 11s 14ms/step - loss: 0.0027 - accuracy: 0.9998 - val_loss: 1.7921 - val_accuracy: 0.7550\n",
      "\n",
      "\n"
     ]
    }
   ],
   "source": [
    "\n",
    "scores={}\n",
    "\n",
    "for dropout_rate in [0.1, 0.2, 0.3, 0.4, 0.5]:\n",
    "    print(dropout_rate)\n",
    "    model = make_tunned_model(dropout_rate=dropout_rate)\n",
    "    history = initial_model.fit(\n",
    "        train_data,\n",
    "        epochs=10,\n",
    "        validation_data=val_data,\n",
    "        validation_steps=10,\n",
    "    )\n",
    "    scores[dropout_rate] = history.history\n",
    "    \n",
    "    print()\n",
    "    print()"
   ]
  },
  {
   "cell_type": "code",
   "execution_count": 134,
   "id": "8e434c5e",
   "metadata": {},
   "outputs": [
    {
     "data": {
      "image/png": "[encoded data removed]",
      "text/plain": [
       "<Figure size 1200x500 with 2 Axes>"
      ]
     },
     "metadata": {},
     "output_type": "display_data"
    }
   ],
   "source": [
    "plot_accuracy(scores,\"dropout_rate\")"
   ]
  },
  {
   "cell_type": "markdown",
   "id": "3aab46d3-b04b-4dc8-adfe-c6aca355cc20",
   "metadata": {},
   "source": [
    "Now we have a final model.\n",
    "\n",
    "We will compare to an already created model like xception and apply transfer learning to see if it is better than our model.\n",
    "\n",
    "Normally, the learning into vector representation of many models is very generic. But the dense layers afterwars are specific to the dataset.\n",
    "SO we want to keep the convolutional layers (the first ones) and train the dense layers.\n",
    "So we reuse the learning knowledge and that is transfer learning"
   ]
  },
  {
   "cell_type": "code",
   "execution_count": 46,
   "id": "23b1cf3c-cb4b-41c1-8d22-4175b7c4bccd",
   "metadata": {},
   "outputs": [],
   "source": [
    "# here code with xception model or another one and a fit. witha  plot of accuracy"
   ]
  },
  {
   "cell_type": "code",
   "execution_count": null,
   "id": "b1fde873",
   "metadata": {},
   "outputs": [],
   "source": [
    "\n",
    "print (\"\\n8.10: Data augmentation\\n\")\n",
    "\n",
    "# this is another way for regularization. We generate more data from existing data. This also prevents from seeing the same image over and over again.\n",
    "# Data augmentation is another way of achieving the same as droput\n",
    "\n",
    "# We want to generate more images.\n",
    "# we can take an image and flip it. Horizontally and vertically.\n",
    "# we can also rotate different degrees\n",
    "# also shiftting the image a little bit, left right up and down. So the height and the width also\n",
    "# shear also, which is different to roration\n",
    "# zooming the X, and/or the Y\n",
    "# and many more\n",
    "\n",
    "#all can be combined"
   ]
  },
  {
   "cell_type": "code",
   "execution_count": null,
   "id": "46420e22",
   "metadata": {},
   "outputs": [],
   "source": [
    "train_gen = ImageDataGenerator(\n",
    "    preprocessing_function=preprocess_input,\n",
    "    #rotation_range=30,\n",
    "    #width_shift_range=10.0,\n",
    "    #height_shift_range=10.0,\n",
    "    shear_range=10,\n",
    "    zoom_range=0.1,\n",
    "    vertical_flip=True,\n",
    "  )\n",
    "# which augmentations should I choose? Use my own judgement\n",
    "# we can also tune as a hyperparameter\n",
    "\n",
    "# we do not apply augmentation to the validation ebcause we want to compare with something consistent always\n",
    "\n",
    "train_ds = train_gen.flow_from_directory(\n",
    "    './gdrive/MyDrive/clothing-dataset-small/train',\n",
    "    target_size=(150, 150),\n",
    "    batch_size=32\n",
    "    )\n",
    "\n",
    "val_gen = ImageDataGenerator(preprocessing_function=preprocess_input)\n",
    "\n",
    "val_ds = val_gen.flow_from_directory(\n",
    "    './gdrive/MyDrive/clothing-dataset-small/validation',\n",
    "    target_size=(150, 150),\n",
    "    batch_size=32, #for validation we do not need to shuffle\n",
    "    shuffle=False\n",
    "    )\n",
    "\n",
    "learning_rate = 0.001\n",
    "size = 100\n",
    "droprate = 0.2\n",
    "\n",
    "\n",
    "model = make_model(\n",
    "    learning_rate = learning_rate,\n",
    "    size_inner=size,\n",
    "    droprate=droprate\n",
    "  )\n",
    "history = model.fit(train_ds, epochs=50, validation_data=val_ds,workers=2560) # because of the droprate and augmentation, we need more epochs\n"
   ]
  },
  {
   "cell_type": "code",
   "execution_count": 135,
   "id": "e0e1854c",
   "metadata": {},
   "outputs": [],
   "source": [
    "#8.7: Checkpointing"
   ]
  },
  {
   "cell_type": "code",
   "execution_count": null,
   "id": "e9b719e0",
   "metadata": {},
   "outputs": [],
   "source": [
    "model.save_weights('model_v1.h5', save_format=('h5'))\n"
   ]
  },
  {
   "cell_type": "code",
   "execution_count": null,
   "id": "ebc0c325",
   "metadata": {},
   "outputs": [],
   "source": [
    "checkpoint = keras.callbacks.ModelCheckpoint(\n",
    "    'xception_v1_{epoch:02d}_{val_accuracy:.3f}.h5',\n",
    "    save_best_only=True, #this is a variable that saves when it is the best compared to the past models\n",
    "    monitor='val_accuracy',\n",
    "    mode='max'\n",
    ")"
   ]
  },
  {
   "cell_type": "code",
   "execution_count": null,
   "id": "c437a4ad",
   "metadata": {},
   "outputs": [],
   "source": [
    "learning_rate = 0.001\n",
    "model = make_model(learning_rate=learning_rate)\n",
    "history = model.fit(\n",
    "    train_ds,\n",
    "    epochs=10,\n",
    "    validation_data=val_ds,\n",
    "    callbacks=[checkpoint],\n",
    "    workers=2560)\n"
   ]
  },
  {
   "cell_type": "code",
   "execution_count": null,
   "id": "6d0b62db",
   "metadata": {},
   "outputs": [],
   "source": []
  },
  {
   "cell_type": "markdown",
   "id": "36d7a1c5",
   "metadata": {},
   "source": [
    "### TEST"
   ]
  },
  {
   "cell_type": "code",
   "execution_count": 123,
   "id": "98cfe733",
   "metadata": {},
   "outputs": [
    {
     "name": "stdout",
     "output_type": "stream",
     "text": [
      "Found 5400 images belonging to 10 classes.\n"
     ]
    }
   ],
   "source": [
    "test_datagenerator = ImageDataGenerator(rescale=1./255)\n",
    "\n",
    "test_data = test_datagenerator.flow_from_directory(\n",
    "    \"test/\",\n",
    "    target_size=target_size,\n",
    "    batch_size=20,\n",
    "    shuffle=False # no need to shuffle for test\n",
    ")\n"
   ]
  },
  {
   "cell_type": "code",
   "execution_count": 128,
   "id": "55d2b6f6",
   "metadata": {},
   "outputs": [
    {
     "name": "stderr",
     "output_type": "stream",
     "text": [
      "/tmp/ipykernel_36959/4055637446.py:1: UserWarning: `Model.predict_generator` is deprecated and will be removed in a future version. Please use `Model.predict`, which supports generators.\n",
      "  pred_test = initial_model.predict_generator(test_data)\n"
     ]
    },
    {
     "name": "stdout",
     "output_type": "stream",
     "text": [
      "accuracy: 0.7537037037037037\n"
     ]
    }
   ],
   "source": [
    "pred_test = initial_model.predict_generator(test_data)\n",
    "predicted_class_indices_test = np.argmax(pred_test,axis=1)\n",
    "predictions = [class_pred_dict[p] for p in predicted_class_indices_test]\n",
    "cm = confusion_matrix([class_pred_dict[p] for p in predicted_class_indices_test], \n",
    "                 [class_pred_dict[l] for l in test_data.labels], \n",
    "                 labels=list(class_pred_dict.values()))\n",
    "print(f'accuracy: {sum(predicted_class_indices_test == test_data.labels) / len(predicted_class_indices_test)}')\n"
   ]
  },
  {
   "cell_type": "code",
   "execution_count": 129,
   "id": "55ad9a15",
   "metadata": {},
   "outputs": [
    {
     "data": {
      "text/plain": [
       "[Text(0, 0.5, 'AnnualCrop'),\n",
       " Text(0, 1.5, 'Forest'),\n",
       " Text(0, 2.5, 'HerbaceousVegetation'),\n",
       " Text(0, 3.5, 'Highway'),\n",
       " Text(0, 4.5, 'Industrial'),\n",
       " Text(0, 5.5, 'Pasture'),\n",
       " Text(0, 6.5, 'PermanentCrop'),\n",
       " Text(0, 7.5, 'Residential'),\n",
       " Text(0, 8.5, 'River'),\n",
       " Text(0, 9.5, 'SeaLake')]"
      ]
     },
     "execution_count": 129,
     "metadata": {},
     "output_type": "execute_result"
    },
    {
     "data": {
      "image/png": "[encoded data removed]",
      "text/plain": [
       "<Figure size 800x600 with 2 Axes>"
      ]
     },
     "metadata": {},
     "output_type": "display_data"
    }
   ],
   "source": [
    "f, ax = plt.subplots(1, 1, figsize=(8, 6))\n",
    "sns.heatmap(cm, annot=True, fmt='g', ax=ax, linewidths=0.1)\n",
    "ax.set_xlabel('Predicted labels')\n",
    "ax.set_ylabel('True labels')\n",
    "ax.set_title('Confusion Matrix')\n",
    "ax.xaxis.set_ticklabels(list(class_pred_dict.values()))\n",
    "ax.yaxis.set_ticklabels(list(class_pred_dict.values()))"
   ]
  },
  {
   "cell_type": "markdown",
   "id": "f2eba59d",
   "metadata": {},
   "source": [
    "### Save model"
   ]
  },
  {
   "cell_type": "code",
   "execution_count": null,
   "id": "f8df288b",
   "metadata": {},
   "outputs": [],
   "source": [
    "model_path = '../models/map-model-v1.tflite'\n",
    "\n",
    "converter = tflite.TFLiteConverter.from_keras_model(model)\n",
    "\n",
    "tflite_model = converter.convert()\n",
    "\n",
    "with open(model_path, 'wb') as f_out:\n",
    "    f_out.write(tflite_model)"
   ]
  },
  {
   "cell_type": "code",
   "execution_count": null,
   "id": "3b850e3d",
   "metadata": {},
   "outputs": [],
   "source": [
    "Prediction on a single image by final model\n",
    "\n",
    "from keras.preprocessing import image\n",
    "img = image.load_img('/###.jpg',target_size=(224,224))\n",
    "img\n",
    "labels = dict((v,k) for k,v in labels.items()) #class labels\n",
    "X = np.array(img,dtype='float32')\n",
    "X = X/255\n",
    "X = np.expand_dims(X, axis=0)\n",
    "print('predicted image is',labels[mobilenet_v2.predict([X]).argmax()])\n",
    "mobilenet_v2.save('mobilenet_final') #save final model \n",
    "loaded_model = tf.keras.models.load_model('mobilenet_final') #load model \n",
    "print('predicted image is',labels[loaded_model.predict([X]).argmax()]) #predict loaded model on map image\n"
   ]
  },
  {
   "cell_type": "code",
   "execution_count": null,
   "id": "483d1a77",
   "metadata": {},
   "outputs": [],
   "source": [
    "Instructions and code of the work carried out \n",
    "I first created a notebook called notebook.ipynb where I downloaded the data, explored, prepared the data, cleaned, run different models with different parameters, evaluated them and concluded which was the model that performed the best.\n",
    "Then I generated the train.py script that trains the models and saves the model to a file with pickle, the predict.py file that loads the model and serves it and the test.py script that will be used to predict a specific day.\n",
    "Then I created and environment and installed the libraries I will be using: pipenv install numpy scikit-learn flask gunicorn xgboost\n",
    "Then I run the environment with: pipenv shell\n",
    "I run a server locally: gunicorn --bind 0.0.0.0:9696 predict:app\n",
    "I test that the model is working with: python3 test.py\n",
    "After checking that it works, I create a docker container sudo docker build -t midterm_project .. We can test it running the docker image docker run -it --rm  midterm_project and executing python3 test.py\n",
    "Finally I deploy it to AWS with Elastic Beanstalk. For that I first install the library pipenv install awsebcli --dev, initialize EB eb init -p docker -r eu-north-1 midterm_project and create the service eb create midterm-project-env\n",
    "Now we just need to test it. For that, I modified the line pointing to the url in test.py and run python3 test.py. (There is no need to change it now since the server is still running in AWS (today being 5 November 2023))"
   ]
  },
  {
   "cell_type": "code",
   "execution_count": null,
   "id": "2afa53dc",
   "metadata": {},
   "outputs": [],
   "source": [
    "## ## ## ## ## ## Steps from: https://github.com/batxes/MLzoomcamp/blob/main/10-kubernetes/10-kubernetes.py\n",
    "## ## ## ## ## ## Steps\n",
    "\n",
    "#Once we have the model:\n",
    "\n",
    "#we can Load it and have a look:\n",
    "\n",
    "import tensorflow as tf\n",
    "from tensorflow import keras\n",
    "model = keras.models.load_model('./clothing-model-v4.h5')\n",
    "tf.saved_model.save(model, 'clothing_model')\n",
    "\n",
    "# we can watch the clothing_model folder with tree\n",
    "\n",
    "tree clothing_model\n",
    "\n",
    "# we can also use to see what is inside recursively\n",
    "ls -lhR clothing_model\n",
    "\n",
    "# with this we can see what is inside the model\n",
    "saved_model_cli show --dir clothing_model --all\n",
    "\n",
    "\n"
   ]
  },
  {
   "cell_type": "code",
   "execution_count": null,
   "id": "c7c259ef",
   "metadata": {},
   "outputs": [],
   "source": [
    "next pipenv\n",
    "\n",
    "pip install pipenv\n",
    "pipenv install\n",
    "pipenv shell\n",
    "python predict.py\n",
    "\n",
    "[[source]]\n",
    "url = \"https://pypi.org/simple\"\n",
    "verify_ssl = true\n",
    "name = \"pypi\"\n",
    "\n",
    "[packages]\n",
    "scikit-learn = \"==1.0\"\n",
    "flask = \"*\"\n",
    "gunicorn = \"*\"\n",
    "tensorflow = \"*\"\n",
    "pillow = \"*\"\n",
    "\n",
    "[dev-packages]\n",
    "\n",
    "[requires]\n",
    "python_version = \"3.8\""
   ]
  },
  {
   "cell_type": "code",
   "execution_count": null,
   "id": "cb3d7fa7",
   "metadata": {},
   "outputs": [],
   "source": [
    "test locally.\n",
    "We need to get script from notebook to load model\n",
    "we also need to create python files like gateway, proto test and so on.\n",
    "say also why we are using tensorflow lite"
   ]
  },
  {
   "cell_type": "code",
   "execution_count": null,
   "id": "83bc2bb9",
   "metadata": {},
   "outputs": [],
   "source": [
    "create docker\n",
    "\n",
    "FROM tensorflow/serving:2.7.0\n",
    "\n",
    "COPY clothing_model /models/clothing-model/1\n",
    "ENV MODEL_NAME=\"clothing-model\""
   ]
  },
  {
   "cell_type": "code",
   "execution_count": null,
   "id": "32f61404",
   "metadata": {},
   "outputs": [],
   "source": [
    "test docker locally\n"
   ]
  },
  {
   "cell_type": "code",
   "execution_count": null,
   "id": "44e3723a",
   "metadata": {},
   "outputs": [],
   "source": []
  },
  {
   "cell_type": "code",
   "execution_count": null,
   "id": "2315cc76",
   "metadata": {},
   "outputs": [],
   "source": []
  }
 ],
 "metadata": {
  "kernelspec": {
   "display_name": "Python 3 (ipykernel)",
   "language": "python",
   "name": "python3"
  },
  "language_info": {
   "codemirror_mode": {
    "name": "ipython",
    "version": 3
   },
   "file_extension": ".py",
   "mimetype": "text/x-python",
   "name": "python",
   "nbconvert_exporter": "python",
   "pygments_lexer": "ipython3",
   "version": "3.10.12"
  }
 },
 "nbformat": 4,
 "nbformat_minor": 5
}
